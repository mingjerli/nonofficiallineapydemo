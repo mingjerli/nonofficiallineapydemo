{
 "cells": [
  {
   "cell_type": "code",
   "execution_count": 1,
   "id": "93069b6c-96a4-45f1-a4b9-9a5500b6ff3c",
   "metadata": {},
   "outputs": [],
   "source": [
    "%load_ext lineapy"
   ]
  },
  {
   "cell_type": "code",
   "execution_count": 2,
   "id": "e52197fd-3878-4d9a-8f24-5bad4546b0e3",
   "metadata": {},
   "outputs": [],
   "source": [
    "import xlwings as xw\n",
    "import json"
   ]
  },
  {
   "cell_type": "code",
   "execution_count": 3,
   "id": "b3d245fd-9c02-4f87-9bb8-0d7e1171f0bc",
   "metadata": {},
   "outputs": [],
   "source": [
    "cpp_config_path = 'config/cpp_call_config.json'\n",
    "params = json.load(open(cpp_config_path,'r'))"
   ]
  },
  {
   "cell_type": "code",
   "execution_count": 4,
   "id": "18406bb8-8fb5-414d-886b-13afae4e4b7e",
   "metadata": {},
   "outputs": [
    {
     "data": {
      "text/plain": [
       "{'option_type': 'call',\n",
       " 'num_sims': 1000,\n",
       " 'S': 100,\n",
       " 'K': 100,\n",
       " 'r': 0.01,\n",
       " 'v': 0.25,\n",
       " 'T': 1}"
      ]
     },
     "execution_count": 4,
     "metadata": {},
     "output_type": "execute_result"
    }
   ],
   "source": [
    "params"
   ]
  },
  {
   "cell_type": "code",
   "execution_count": 5,
   "id": "94267216-ea92-4c40-adb1-0369af5f18cf",
   "metadata": {},
   "outputs": [],
   "source": [
    "workbook_path = r'Excel/BlackSholesGreeksVBA.xlsm'\n",
    "sheet_name = 'Basic'"
   ]
  },
  {
   "cell_type": "code",
   "execution_count": 6,
   "id": "7d4a94ca-3d60-4a52-b01d-e8105790e6f1",
   "metadata": {
    "tags": []
   },
   "outputs": [],
   "source": [
    "wb = xw.Book(workbook_path)\n",
    "sheet = wb.sheets[sheet_name]"
   ]
  },
  {
   "cell_type": "code",
   "execution_count": 7,
   "id": "00628427-e3f0-4ec2-9d81-a5e0ad48528c",
   "metadata": {},
   "outputs": [],
   "source": [
    "option_type = 'C' \n",
    "StockPrice = params['S']\n",
    "StrikePrice = params['K']\n",
    "RiskFreeRate = params['r']\n",
    "Volatility = params['v']\n",
    "TimeToExpiry = params['T']\n",
    "Dividend = 0.03"
   ]
  },
  {
   "cell_type": "code",
   "execution_count": 8,
   "id": "ecc2a037-41c8-4095-ad32-cca28fbb9527",
   "metadata": {
    "tags": []
   },
   "outputs": [
    {
     "data": {
      "text/plain": [
       "[<Name '_xlfn.SINGLE': =#NAME?>,\n",
       " <Name 'Dividend': =Basic!$B$12>,\n",
       " <Name 'RiskFreeRate': =Basic!$B$11>,\n",
       " <Name 'StockPrice': =Basic!$B$7>,\n",
       " <Name 'StrikePrice': =Basic!$B$8>,\n",
       " <Name 'TimeToExpiry': =Basic!$B$9>,\n",
       " <Name 'Volatility': =Basic!$B$10>]"
      ]
     },
     "execution_count": 8,
     "metadata": {},
     "output_type": "execute_result"
    }
   ],
   "source": [
    "# Cell name in the \n",
    "list(wb.names)"
   ]
  },
  {
   "cell_type": "code",
   "execution_count": 9,
   "id": "29eceac0-5629-4736-a5d8-592bed5e2ded",
   "metadata": {},
   "outputs": [
    {
     "name": "stdout",
     "output_type": "stream",
     "text": [
      "[50.0, 65.0, 1.0, 0.15, 0.03, 0.02]\n"
     ]
    }
   ],
   "source": [
    "print(sheet.range('B7:B12').value)"
   ]
  },
  {
   "cell_type": "code",
   "execution_count": 10,
   "id": "a21b6cf3-510f-4c6f-9eb3-e489e0ffb44d",
   "metadata": {},
   "outputs": [],
   "source": [
    "sheet.range('StockPrice').value = StockPrice\n",
    "sheet.range('StrikePrice').value = StrikePrice\n",
    "sheet.range('TimeToExpiry').value = TimeToExpiry\n",
    "sheet.range('RiskFreeRate').value = RiskFreeRate\n",
    "sheet.range('Volatility').value = Volatility\n",
    "sheet.range('Dividend').value = Dividend"
   ]
  },
  {
   "cell_type": "code",
   "execution_count": 11,
   "id": "972f5632-4670-4e21-869e-17ffb80e48ab",
   "metadata": {},
   "outputs": [
    {
     "name": "stdout",
     "output_type": "stream",
     "text": [
      "[100.0, 100.0, 1.0, 0.25, 0.01, 0.03]\n"
     ]
    }
   ],
   "source": [
    "print(sheet.range('B7:B12').value)"
   ]
  },
  {
   "cell_type": "code",
   "execution_count": 12,
   "id": "fda69113-728d-4254-8c85-0eaa75b3987a",
   "metadata": {},
   "outputs": [
    {
     "data": {
      "text/plain": [
       "LineaArtifact(name='excel_price_cell', _version=1)"
      ]
     },
     "execution_count": 12,
     "metadata": {},
     "output_type": "execute_result"
    }
   ],
   "source": [
    "updated_excel_pricing = sheet.range(\"E7\").value \n",
    "lineapy.save(updated_excel_pricing, 'excel_price_cell')"
   ]
  },
  {
   "cell_type": "code",
   "execution_count": 13,
   "id": "c8a18fd9-76a0-4047-9ba2-0cc35b24f3f0",
   "metadata": {},
   "outputs": [
    {
     "name": "stdout",
     "output_type": "stream",
     "text": [
      "8.80196460627117\n"
     ]
    }
   ],
   "source": [
    "print(updated_excel_pricing)"
   ]
  },
  {
   "cell_type": "code",
   "execution_count": 14,
   "id": "d6e49973-c048-48e0-9346-a512b419d041",
   "metadata": {},
   "outputs": [
    {
     "name": "stdout",
     "output_type": "stream",
     "text": [
      "import xlwings as xw\n",
      "\n",
      "workbook_path = r\"Excel/BlackSholesGreeksVBA.xlsm\"\n",
      "sheet_name = \"Basic\"\n",
      "wb = xw.Book(workbook_path)\n",
      "sheet = wb.sheets[sheet_name]\n",
      "updated_excel_pricing = sheet.range(\"E7\").value\n",
      "\n"
     ]
    }
   ],
   "source": [
    "## Need annotation for xlwings\n",
    "print(lineapy.get('excel_price_cell').get_code())"
   ]
  },
  {
   "cell_type": "markdown",
   "id": "f9e2e9a9-c5da-401a-b2c4-ef1bd4c57916",
   "metadata": {},
   "source": [
    "### Direct use vba function within the spreadsheet"
   ]
  },
  {
   "cell_type": "code",
   "execution_count": 15,
   "id": "626dac72-08b8-411a-b93f-76e02260d4ba",
   "metadata": {},
   "outputs": [
    {
     "name": "stdout",
     "output_type": "stream",
     "text": [
      "8.80196460627117\n"
     ]
    }
   ],
   "source": [
    "vba_pricing = wb.macro('OptionPrice')(option_type, StockPrice, StrikePrice, TimeToExpiry, RiskFreeRate, Volatility, Dividend)\n",
    "lineapy.save(vba_pricing, 'excel_price_vba')\n",
    "print(vba_pricing)"
   ]
  },
  {
   "cell_type": "code",
   "execution_count": null,
   "id": "94e491bd-5118-4e19-a33a-c2c59e4d3e5d",
   "metadata": {},
   "outputs": [],
   "source": []
  },
  {
   "cell_type": "code",
   "execution_count": 16,
   "id": "1dec59ae-2fb0-4ab9-af37-1b64323b4ad2",
   "metadata": {},
   "outputs": [
    {
     "name": "stdout",
     "output_type": "stream",
     "text": [
      "import json\n",
      "\n",
      "import xlwings as xw\n",
      "\n",
      "cpp_config_path = \"config/cpp_call_config.json\"\n",
      "params = json.load(open(cpp_config_path, \"r\"))\n",
      "workbook_path = r\"Excel/BlackSholesGreeksVBA.xlsm\"\n",
      "wb = xw.Book(workbook_path)\n",
      "option_type = \"C\"\n",
      "StockPrice = params[\"S\"]\n",
      "StrikePrice = params[\"K\"]\n",
      "RiskFreeRate = params[\"r\"]\n",
      "Volatility = params[\"v\"]\n",
      "TimeToExpiry = params[\"T\"]\n",
      "Dividend = 0.03\n",
      "vba_pricing = wb.macro(\"OptionPrice\")(\n",
      "    option_type,\n",
      "    StockPrice,\n",
      "    StrikePrice,\n",
      "    TimeToExpiry,\n",
      "    RiskFreeRate,\n",
      "    Volatility,\n",
      "    Dividend,\n",
      ")\n",
      "\n"
     ]
    }
   ],
   "source": [
    "print(lineapy.get('excel_price_vba').get_code())"
   ]
  },
  {
   "cell_type": "code",
   "execution_count": 17,
   "id": "b8a60f9c-3aa7-499b-96bb-0b8e76d9f68a",
   "metadata": {},
   "outputs": [
    {
     "data": {
      "text/plain": [
       "{'excel_price_vba': 8.80196460627117}"
      ]
     },
     "execution_count": 17,
     "metadata": {},
     "output_type": "execute_result"
    }
   ],
   "source": [
    "# Valid result \n",
    "\n",
    "ft = lineapy.get_function(['excel_price_vba'])\n",
    "ft()"
   ]
  },
  {
   "cell_type": "code",
   "execution_count": 18,
   "id": "9af120e1-5aca-4fe4-b98b-f0a845ed8350",
   "metadata": {},
   "outputs": [],
   "source": [
    "wb.close()"
   ]
  }
 ],
 "metadata": {
  "kernelspec": {
   "display_name": "Python 3 (ipykernel)",
   "language": "python",
   "name": "python3"
  },
  "language_info": {
   "codemirror_mode": {
    "name": "ipython",
    "version": 3
   },
   "file_extension": ".py",
   "mimetype": "text/x-python",
   "name": "python",
   "nbconvert_exporter": "python",
   "pygments_lexer": "ipython3",
   "version": "3.9.13"
  }
 },
 "nbformat": 4,
 "nbformat_minor": 5
}
