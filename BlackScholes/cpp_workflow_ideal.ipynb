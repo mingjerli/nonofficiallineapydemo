{
 "cells": [
  {
   "cell_type": "code",
   "execution_count": 1,
   "id": "823abe0b-c41d-45c6-8aeb-e37f81f96e78",
   "metadata": {},
   "outputs": [],
   "source": [
    "%load_ext lineapy"
   ]
  },
  {
   "cell_type": "code",
   "execution_count": 2,
   "id": "b3a07cdd-7b05-4a10-8676-4196cd8c9548",
   "metadata": {},
   "outputs": [],
   "source": [
    "import subprocess\n",
    "import pathlib\n",
    "import inspect\n",
    "import json"
   ]
  },
  {
   "cell_type": "code",
   "execution_count": 3,
   "id": "e32a3a94-949e-4e76-b867-2503a9a6be68",
   "metadata": {},
   "outputs": [],
   "source": [
    "source_code_path = 'cpp/lib.cpp'\n",
    "shared_libary_path = 'cpp/libTest.so'\n",
    "p = subprocess.run(['g++', '-fPIC', '-shared', '-o', shared_libary_path, source_code_path])\n",
    "# lineapy.save(lineapy.file_system, 'cpp_binary')"
   ]
  },
  {
   "cell_type": "code",
   "execution_count": null,
   "id": "e47df158-bb58-4795-94b2-b2cf42988eb9",
   "metadata": {},
   "outputs": [],
   "source": []
  },
  {
   "cell_type": "code",
   "execution_count": 4,
   "id": "c4329b9f-464e-43c7-bdc2-750569684e62",
   "metadata": {},
   "outputs": [
    {
     "name": "stdout",
     "output_type": "stream",
     "text": [
      "// g++ -fPIC -shared -o libTest.so lib.cpp\n",
      "\n",
      "#include <iostream>\n",
      "#include <cmath>\n",
      "#include <algorithm>    // Needed for the \"max\" function\n",
      "\n",
      "int Function(int num) \n",
      "{\n",
      "    std::cout << \"Num = \" << num << std::endl;\n",
      "    return num;\n",
      "}\n",
      "\n",
      "double gaussian_box_muller() {\n",
      "    double x = 0.0;\n",
      "    double y = 0.0;\n",
      "    double euclid_sq = 0.0;\n",
      "\n",
      "    // Continue generating two uniform random variables\n",
      "    // until the square of their \"euclidean distance\" \n",
      "    // is less than unity\n",
      "    do {\n",
      "        x = 2.0 * rand() / static_cast<double>(RAND_MAX)-1;\n",
      "        y = 2.0 * rand() / static_cast<double>(RAND_MAX)-1;\n",
      "        euclid_sq = x*x + y*y;\n",
      "    } while (euclid_sq >= 1.0);\n",
      "\n",
      "    return x*sqrt(-2*log(euclid_sq)/euclid_sq);\n",
      "}\n",
      "\n",
      "double monte_carlo_call_price(const int& num_sims, const double& S, const double& K, const double& r, const double& v, const double& T) {\n",
      "    double S_adjust = S * exp(T*(r-0.5*v*v));\n",
      "    double S_cur = 0.0;\n",
      "    double payoff_sum = 0.0;\n",
      "\n",
      "    for (int i=0; i<num_sims; i++) {\n",
      "        double gauss_bm = gaussian_box_muller();\n",
      "        S_cur = S_adjust * exp(sqrt(v*v*T)*gauss_bm);\n",
      "        payoff_sum += std::max(S_cur - K, 0.0);\n",
      "    }\n",
      "    double result = (payoff_sum / static_cast<double>(num_sims)) * exp(-r*T);\n",
      "    std::cout << \"payoff_sum = \" << payoff_sum << std::endl;\n",
      "    std::cout << \"r = \" << r << std::endl;\n",
      "    std::cout << \"T = \" << T << std::endl;\n",
      "    std::cout << \"result\" << result << std::endl;\n",
      "    \n",
      "    return (payoff_sum / static_cast<double>(num_sims)) * exp(-r*T);\n",
      "}\n",
      "\n",
      "double monte_carlo_put_price(const int& num_sims, const double& S, const double& K, const double& r, const double& v, const double& T) {\n",
      "    double S_adjust = S * exp(T*(r-0.5*v*v));\n",
      "    double S_cur = 0.0;\n",
      "    double payoff_sum = 0.0;\n",
      "\n",
      "    for (int i=0; i<num_sims; i++) {\n",
      "        double gauss_bm = gaussian_box_muller();\n",
      "        S_cur = S_adjust * exp(sqrt(v*v*T)*gauss_bm);\n",
      "        payoff_sum += std::max(K - S_cur, 0.0);\n",
      "    }\n",
      "\n",
      "    return (payoff_sum / static_cast<double>(num_sims)) * exp(-r*T);\n",
      "}\n",
      "\n",
      "extern \"C\" {\n",
      "    int My_Function(int a)\n",
      "    {\n",
      "        return Function(a);\n",
      "    }\n",
      "}\n",
      "\n",
      "extern \"C\" {\n",
      "    double My_gaussian_box_muller()\n",
      "    {\n",
      "        return gaussian_box_muller();\n",
      "    }\n",
      "}\n",
      "\n",
      "extern \"C\" {\n",
      "    // double My_mc_call(const int& num_sims, const double& S, const double& K, const double& r, const double& v, const double& T)\n",
      "    double My_mc_call(int num_sims, double S, double K, double r, double v, double T)\n",
      "    {\n",
      "        return monte_carlo_call_price(num_sims, S, K, r, v, T);\n",
      "    }\n",
      "}\n",
      "\n",
      "extern \"C\" {\n",
      "    // double My_mc_call(const int& num_sims, const double& S, const double& K, const double& r, const double& v, const double& T)\n",
      "    double My_mc_put(int num_sims, double S, double K, double r, double v, double T)\n",
      "    {\n",
      "        return monte_carlo_put_price(num_sims, S, K, r, v, T);\n",
      "    }\n",
      "}\n"
     ]
    },
    {
     "data": {
      "text/plain": [
       "LineaArtifact(name='cpp_source_code', _version=11)"
      ]
     },
     "execution_count": 4,
     "metadata": {},
     "output_type": "execute_result"
    }
   ],
   "source": [
    "source_code = pathlib.Path(source_code_path).read_text()\n",
    "print(source_code)\n",
    "lineapy.save(source_code, 'cpp_source_code')"
   ]
  },
  {
   "cell_type": "code",
   "execution_count": 5,
   "id": "c9a54869-a0ec-4fa3-bc82-cb09e2a66cc9",
   "metadata": {},
   "outputs": [],
   "source": [
    "import ctypes\n",
    "import sys\n",
    "import os \n",
    "\n",
    "def get_DLL_handle(dllpath):\n",
    "    handle = ctypes.CDLL(dllpath)     \n",
    "    handle.My_mc_call.argtypes = [ctypes.c_int, ctypes.c_double, ctypes.c_double, ctypes.c_double, ctypes.c_double, ctypes.c_double] \n",
    "    handle.My_mc_call.restype = ctypes.c_double\n",
    "    handle.My_mc_put.argtypes = [ctypes.c_int, ctypes.c_double, ctypes.c_double, ctypes.c_double, ctypes.c_double, ctypes.c_double] \n",
    "    handle.My_mc_put.restype = ctypes.c_double\n",
    "    return handle\n",
    "\n",
    "dll_handle= get_DLL_handle(shared_libary_path)\n",
    "\n",
    "def call(num_sims, S, K, r, v, T):\n",
    "    result = dll_handle.My_mc_call(num_sims, S, K, r, v, T)\n",
    "    print(result)\n",
    "    return result\n",
    "\n",
    "def put(num_sims, S, K, r, v, T):\n",
    "    result = dll_handle.My_mc_put(num_sims, S, K, r, v, T)\n",
    "    print(result)\n",
    "    return result    "
   ]
  },
  {
   "cell_type": "code",
   "execution_count": 6,
   "id": "d06ca083-6bf5-4bfb-bb52-63c887939cad",
   "metadata": {},
   "outputs": [],
   "source": [
    "cpp_config_path = 'config/cpp_call_config.json'"
   ]
  },
  {
   "cell_type": "code",
   "execution_count": 7,
   "id": "05ec1dd5-a8c2-4f08-85a1-d145c0f9bd8d",
   "metadata": {},
   "outputs": [
    {
     "name": "stdout",
     "output_type": "stream",
     "text": [
      "{'option_type': 'call', 'num_sims': 1000, 'S': 100, 'K': 100, 'r': 0.01, 'v': 0.25, 'T': 1}\n"
     ]
    }
   ],
   "source": [
    "params = json.load(open(cpp_config_path,'r'))\n",
    "print(params)"
   ]
  },
  {
   "cell_type": "code",
   "execution_count": 8,
   "id": "8592f2a3-6bbc-4b43-8fef-4edae6b89564",
   "metadata": {},
   "outputs": [
    {
     "name": "stdout",
     "output_type": "stream",
     "text": [
      "payoff_sum = 11091.1\n",
      "10.98079096253393\n",
      "r = 0.01\n",
      "T = 1\n",
      "result10.9808\n"
     ]
    }
   ],
   "source": [
    "call_param = {k:v for k, v in params.items() if k in inspect.getfullargspec(call).args}\n",
    "call_price = call(**call_param)"
   ]
  },
  {
   "cell_type": "code",
   "execution_count": 9,
   "id": "51806062-005b-4132-9bef-2cd639eb8f13",
   "metadata": {},
   "outputs": [
    {
     "data": {
      "text/plain": [
       "LineaArtifact(name='cpp_price', _version=7)"
      ]
     },
     "execution_count": 9,
     "metadata": {},
     "output_type": "execute_result"
    }
   ],
   "source": [
    "lineapy.save(call_price, 'cpp_price')"
   ]
  },
  {
   "cell_type": "code",
   "execution_count": null,
   "id": "40d0eeea-804c-4983-b657-b15388a67824",
   "metadata": {},
   "outputs": [],
   "source": []
  },
  {
   "cell_type": "code",
   "execution_count": 10,
   "id": "3a5b0acd-166f-4fce-9275-0c3435951085",
   "metadata": {},
   "outputs": [
    {
     "name": "stdout",
     "output_type": "stream",
     "text": [
      "import ctypes\n",
      "import inspect\n",
      "import json\n",
      "\n",
      "shared_libary_path = \"cpp/libTest.so\"\n",
      "\n",
      "\n",
      "def get_DLL_handle(dllpath):\n",
      "    handle = ctypes.CDLL(dllpath)\n",
      "    handle.My_mc_call.argtypes = [\n",
      "        ctypes.c_int,\n",
      "        ctypes.c_double,\n",
      "        ctypes.c_double,\n",
      "        ctypes.c_double,\n",
      "        ctypes.c_double,\n",
      "        ctypes.c_double,\n",
      "    ]\n",
      "    handle.My_mc_call.restype = ctypes.c_double\n",
      "    handle.My_mc_put.argtypes = [\n",
      "        ctypes.c_int,\n",
      "        ctypes.c_double,\n",
      "        ctypes.c_double,\n",
      "        ctypes.c_double,\n",
      "        ctypes.c_double,\n",
      "        ctypes.c_double,\n",
      "    ]\n",
      "    handle.My_mc_put.restype = ctypes.c_double\n",
      "    return handle\n",
      "\n",
      "\n",
      "dll_handle = get_DLL_handle(shared_libary_path)\n",
      "\n",
      "\n",
      "def call(num_sims, S, K, r, v, T):\n",
      "    result = dll_handle.My_mc_call(num_sims, S, K, r, v, T)\n",
      "    print(result)\n",
      "    return result\n",
      "\n",
      "\n",
      "cpp_config_path = \"config/cpp_call_config.json\"\n",
      "params = json.load(open(cpp_config_path, \"r\"))\n",
      "call_param = {k: v for k, v in params.items() if k in inspect.getfullargspec(call).args}\n",
      "call_price = call(**call_param)\n",
      "\n"
     ]
    }
   ],
   "source": [
    "art = lineapy.get('cpp_price')\n",
    "# art = lineapy.get('cpp_source_code')\n",
    "print(art.get_code())"
   ]
  },
  {
   "cell_type": "code",
   "execution_count": 11,
   "id": "afa8a0be-ad2b-450e-917b-0862bd01c4d7",
   "metadata": {},
   "outputs": [
    {
     "name": "stdout",
     "output_type": "stream",
     "text": [
      "import ctypes\n",
      "import inspect\n",
      "import json\n",
      "import pathlib\n",
      "\n",
      "\n",
      "def get_cpp_price():\n",
      "    shared_libary_path = \"cpp/libTest.so\"\n",
      "\n",
      "    def get_DLL_handle(dllpath):\n",
      "        handle = ctypes.CDLL(dllpath)\n",
      "        handle.My_mc_call.argtypes = [\n",
      "            ctypes.c_int,\n",
      "            ctypes.c_double,\n",
      "            ctypes.c_double,\n",
      "            ctypes.c_double,\n",
      "            ctypes.c_double,\n",
      "            ctypes.c_double,\n",
      "        ]\n",
      "        handle.My_mc_call.restype = ctypes.c_double\n",
      "        handle.My_mc_put.argtypes = [\n",
      "            ctypes.c_int,\n",
      "            ctypes.c_double,\n",
      "            ctypes.c_double,\n",
      "            ctypes.c_double,\n",
      "            ctypes.c_double,\n",
      "            ctypes.c_double,\n",
      "        ]\n",
      "        handle.My_mc_put.restype = ctypes.c_double\n",
      "        return handle\n",
      "\n",
      "    dll_handle = get_DLL_handle(shared_libary_path)\n",
      "\n",
      "    def call(num_sims, S, K, r, v, T):\n",
      "        result = dll_handle.My_mc_call(num_sims, S, K, r, v, T)\n",
      "        print(result)\n",
      "        return result\n",
      "\n",
      "    cpp_config_path = \"config/cpp_call_config.json\"\n",
      "    params = json.load(open(cpp_config_path, \"r\"))\n",
      "    call_param = {\n",
      "        k: v for k, v in params.items() if k in inspect.getfullargspec(call).args\n",
      "    }\n",
      "    call_price = call(**call_param)\n",
      "    return call_price\n",
      "\n",
      "\n",
      "def get_cpp_source_code():\n",
      "    source_code_path = \"cpp/lib.cpp\"\n",
      "    source_code = pathlib.Path(source_code_path).read_text()\n",
      "    return source_code\n",
      "\n",
      "\n",
      "def run_session_including_cpp_price():\n",
      "    # Given multiple artifacts, we need to save each right after\n",
      "    # its calculation to protect from any irrelevant downstream\n",
      "    # mutations (e.g., inside other artifact calculations)\n",
      "    import copy\n",
      "\n",
      "    artifacts = dict()\n",
      "    call_price = get_cpp_price()\n",
      "    artifacts[\"cpp_price\"] = copy.deepcopy(call_price)\n",
      "    source_code = get_cpp_source_code()\n",
      "    artifacts[\"cpp_source_code\"] = copy.deepcopy(source_code)\n",
      "    return artifacts\n",
      "\n",
      "\n",
      "def run_all_sessions():\n",
      "    artifacts = dict()\n",
      "    artifacts.update(run_session_including_cpp_price())\n",
      "    return artifacts\n",
      "\n",
      "\n",
      "if __name__ == \"__main__\":\n",
      "    # Edit this section to customize the behavior of artifacts\n",
      "    artifacts = run_all_sessions()\n",
      "    print(artifacts)\n",
      "\n"
     ]
    }
   ],
   "source": [
    "ft = lineapy.get_function(['cpp_source_code','cpp_price'])\n",
    "print(lineapy.get_module_definition(['cpp_source_code','cpp_price']))"
   ]
  },
  {
   "cell_type": "markdown",
   "id": "9dfa3c05-55fe-4e94-a541-aac594277aea",
   "metadata": {},
   "source": [
    "## Todo\n",
    "\n",
    "* Annotation for `subprocess.run`\n",
    "* Annotaion for `ctypes.CDLL` object"
   ]
  },
  {
   "cell_type": "code",
   "execution_count": null,
   "id": "ec77d8f8-ee5c-4c1c-b022-a209b412c045",
   "metadata": {},
   "outputs": [],
   "source": []
  }
 ],
 "metadata": {
  "kernelspec": {
   "display_name": "lineapy39",
   "language": "python",
   "name": "lineapy39"
  },
  "language_info": {
   "codemirror_mode": {
    "name": "ipython",
    "version": 3
   },
   "file_extension": ".py",
   "mimetype": "text/x-python",
   "name": "python",
   "nbconvert_exporter": "python",
   "pygments_lexer": "ipython3",
   "version": "3.9.12"
  }
 },
 "nbformat": 4,
 "nbformat_minor": 5
}
